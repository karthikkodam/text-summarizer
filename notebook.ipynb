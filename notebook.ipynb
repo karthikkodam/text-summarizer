{
 "cells": [
  {
   "cell_type": "markdown",
   "metadata": {
    "id": "E5kVay-zuMC3"
   },
   "source": [
    "## **Objective :** Train or fine-tune a model for text summarization."
   ]
  },
  {
   "cell_type": "code",
   "execution_count": null,
   "metadata": {
    "id": "7G0vYXLnGQRH"
   },
   "outputs": [],
   "source": [
    "# !python -m spacy download en_core_web_sm"
   ]
  },
  {
   "cell_type": "code",
   "execution_count": null,
   "metadata": {
    "id": "Ls9g0aUVFjN6"
   },
   "outputs": [],
   "source": [
    "# !pip install rouge_score\n",
    "# !pip install evaluate"
   ]
  },
  {
   "cell_type": "code",
   "execution_count": null,
   "metadata": {
    "id": "bpOUL3F8FOg6"
   },
   "outputs": [],
   "source": [
    "from datasets import load_dataset\n",
    "from transformers import T5Tokenizer , T5ForConditionalGeneration\n",
    "import shutil\n",
    "import os\n",
    "import zipfile\n",
    "from datasets import load_from_disk\n",
    "import numpy as np\n",
    "import evaluate\n",
    "from transformers import Seq2SeqTrainingArguments\n",
    "from transformers import DataCollatorForSeq2Seq, Seq2SeqTrainer\n",
    "import spacy"
   ]
  },
  {
   "cell_type": "markdown",
   "metadata": {
    "id": "1lW4dfq3uMC5"
   },
   "source": [
    "### Step 1: Load and preprocess dataset"
   ]
  },
  {
   "cell_type": "code",
   "execution_count": null,
   "metadata": {
    "_cell_guid": "b1076dfc-b9ad-4769-8c92-a6c4dae69d19",
    "_uuid": "8f2839f25d086af736a60e9eeb907d3b93b6e0e5",
    "execution": {
     "iopub.execute_input": "2025-05-27T11:55:35.700668Z",
     "iopub.status.busy": "2025-05-27T11:55:35.700388Z",
     "iopub.status.idle": "2025-05-27T11:55:50.352424Z",
     "shell.execute_reply": "2025-05-27T11:55:50.351860Z",
     "shell.execute_reply.started": "2025-05-27T11:55:35.700623Z"
    },
    "id": "h42hb8pauMC6"
   },
   "outputs": [],
   "source": [
    "from datasets import load_dataset"
   ]
  },
  {
   "cell_type": "code",
   "execution_count": null,
   "metadata": {
    "colab": {
     "referenced_widgets": [
      "b687ccbe77e44797b3e205379d866642",
      "acf837a4b9bd41c299eb4923898b7661",
      "b642174fe6734965b4fc3b45ce3055c7",
      "e2fd4f11b6544222a891b9de6b8730e4",
      "928f5af945044c78ba73b3b0608812c5",
      "582ab695d02f4565b841dc7ed083f9b6",
      "e1770537cd8b4e7f9db719b5315f7d3b",
      "a81be68291f24e53bff9cdb7a68fcf18",
      "2dab582cd69742999738d87abefc1a34"
     ]
    },
    "execution": {
     "iopub.execute_input": "2025-05-27T11:55:50.353988Z",
     "iopub.status.busy": "2025-05-27T11:55:50.353559Z",
     "iopub.status.idle": "2025-05-27T11:56:02.756722Z",
     "shell.execute_reply": "2025-05-27T11:56:02.756121Z",
     "shell.execute_reply.started": "2025-05-27T11:55:50.353969Z"
    },
    "id": "Hxao0apmuMC7",
    "outputId": "c55029e0-2cab-4010-e35a-429336acc894"
   },
   "outputs": [
    {
     "data": {
      "application/vnd.jupyter.widget-view+json": {
       "model_id": "b687ccbe77e44797b3e205379d866642",
       "version_major": 2,
       "version_minor": 0
      },
      "text/plain": [
       "README.md:   0%|          | 0.00/15.6k [00:00<?, ?B/s]"
      ]
     },
     "metadata": {},
     "output_type": "display_data"
    },
    {
     "data": {
      "application/vnd.jupyter.widget-view+json": {
       "model_id": "acf837a4b9bd41c299eb4923898b7661",
       "version_major": 2,
       "version_minor": 0
      },
      "text/plain": [
       "train-00000-of-00003.parquet:   0%|          | 0.00/257M [00:00<?, ?B/s]"
      ]
     },
     "metadata": {},
     "output_type": "display_data"
    },
    {
     "data": {
      "application/vnd.jupyter.widget-view+json": {
       "model_id": "b642174fe6734965b4fc3b45ce3055c7",
       "version_major": 2,
       "version_minor": 0
      },
      "text/plain": [
       "train-00001-of-00003.parquet:   0%|          | 0.00/257M [00:00<?, ?B/s]"
      ]
     },
     "metadata": {},
     "output_type": "display_data"
    },
    {
     "data": {
      "application/vnd.jupyter.widget-view+json": {
       "model_id": "e2fd4f11b6544222a891b9de6b8730e4",
       "version_major": 2,
       "version_minor": 0
      },
      "text/plain": [
       "train-00002-of-00003.parquet:   0%|          | 0.00/259M [00:00<?, ?B/s]"
      ]
     },
     "metadata": {},
     "output_type": "display_data"
    },
    {
     "data": {
      "application/vnd.jupyter.widget-view+json": {
       "model_id": "928f5af945044c78ba73b3b0608812c5",
       "version_major": 2,
       "version_minor": 0
      },
      "text/plain": [
       "validation-00000-of-00001.parquet:   0%|          | 0.00/34.7M [00:00<?, ?B/s]"
      ]
     },
     "metadata": {},
     "output_type": "display_data"
    },
    {
     "data": {
      "application/vnd.jupyter.widget-view+json": {
       "model_id": "582ab695d02f4565b841dc7ed083f9b6",
       "version_major": 2,
       "version_minor": 0
      },
      "text/plain": [
       "test-00000-of-00001.parquet:   0%|          | 0.00/30.0M [00:00<?, ?B/s]"
      ]
     },
     "metadata": {},
     "output_type": "display_data"
    },
    {
     "data": {
      "application/vnd.jupyter.widget-view+json": {
       "model_id": "e1770537cd8b4e7f9db719b5315f7d3b",
       "version_major": 2,
       "version_minor": 0
      },
      "text/plain": [
       "Generating train split:   0%|          | 0/287113 [00:00<?, ? examples/s]"
      ]
     },
     "metadata": {},
     "output_type": "display_data"
    },
    {
     "data": {
      "application/vnd.jupyter.widget-view+json": {
       "model_id": "a81be68291f24e53bff9cdb7a68fcf18",
       "version_major": 2,
       "version_minor": 0
      },
      "text/plain": [
       "Generating validation split:   0%|          | 0/13368 [00:00<?, ? examples/s]"
      ]
     },
     "metadata": {},
     "output_type": "display_data"
    },
    {
     "data": {
      "application/vnd.jupyter.widget-view+json": {
       "model_id": "2dab582cd69742999738d87abefc1a34",
       "version_major": 2,
       "version_minor": 0
      },
      "text/plain": [
       "Generating test split:   0%|          | 0/11490 [00:00<?, ? examples/s]"
      ]
     },
     "metadata": {},
     "output_type": "display_data"
    },
    {
     "data": {
      "text/plain": [
       "{'train': (287113, 3), 'validation': (13368, 3), 'test': (11490, 3)}"
      ]
     },
     "execution_count": 2,
     "metadata": {},
     "output_type": "execute_result"
    }
   ],
   "source": [
    "data = load_dataset(\"cnn_dailymail\", \"3.0.0\")\n",
    "data.shape"
   ]
  },
  {
   "cell_type": "code",
   "execution_count": null,
   "metadata": {
    "execution": {
     "iopub.execute_input": "2025-05-27T11:56:02.758018Z",
     "iopub.status.busy": "2025-05-27T11:56:02.757502Z",
     "iopub.status.idle": "2025-05-27T11:56:02.762569Z",
     "shell.execute_reply": "2025-05-27T11:56:02.761848Z",
     "shell.execute_reply.started": "2025-05-27T11:56:02.757992Z"
    },
    "id": "2EcDLyQGuMC9",
    "outputId": "905cc2d7-0657-4c54-9a16-377114cb45f2"
   },
   "outputs": [
    {
     "data": {
      "text/plain": [
       "DatasetDict({\n",
       "    train: Dataset({\n",
       "        features: ['article', 'highlights', 'id'],\n",
       "        num_rows: 287113\n",
       "    })\n",
       "    validation: Dataset({\n",
       "        features: ['article', 'highlights', 'id'],\n",
       "        num_rows: 13368\n",
       "    })\n",
       "    test: Dataset({\n",
       "        features: ['article', 'highlights', 'id'],\n",
       "        num_rows: 11490\n",
       "    })\n",
       "})"
      ]
     },
     "execution_count": 3,
     "metadata": {},
     "output_type": "execute_result"
    }
   ],
   "source": [
    "data"
   ]
  },
  {
   "cell_type": "code",
   "execution_count": null,
   "metadata": {
    "execution": {
     "iopub.execute_input": "2025-05-27T11:56:02.764371Z",
     "iopub.status.busy": "2025-05-27T11:56:02.764138Z",
     "iopub.status.idle": "2025-05-27T11:56:10.298689Z",
     "shell.execute_reply": "2025-05-27T11:56:10.298007Z",
     "shell.execute_reply.started": "2025-05-27T11:56:02.764356Z"
    },
    "id": "yjGXqHZKuMC9",
    "outputId": "b9aacce5-d281-4451-b6ea-738608b4a524"
   },
   "outputs": [
    {
     "name": "stdout",
     "output_type": "stream",
     "text": [
      "\n",
      "Checking train split:\n",
      "Missing values in 'article': 0 out of 287113\n",
      "Missing values in 'highlights': 0 out of 287113\n",
      "\n",
      "Checking validation split:\n",
      "Missing values in 'article': 0 out of 13368\n",
      "Missing values in 'highlights': 0 out of 13368\n",
      "\n",
      "Checking test split:\n",
      "Missing values in 'article': 0 out of 11490\n",
      "Missing values in 'highlights': 0 out of 11490\n"
     ]
    }
   ],
   "source": [
    "# Function to check null or empty strings\n",
    "def check_missing(data, field):\n",
    "    nulls = sum([1 for x in data[field] if x is None or str(x).strip() == \"\"])\n",
    "    print(f\"Missing values in '{field}': {nulls} out of {len(data[field])}\")\n",
    "\n",
    "for split in [\"train\", \"validation\", \"test\"]:\n",
    "    print(f\"\\nChecking {split} split:\")\n",
    "    check_missing(data[split], \"article\")\n",
    "    check_missing(data[split], \"highlights\")"
   ]
  },
  {
   "cell_type": "code",
   "execution_count": null,
   "metadata": {
    "execution": {
     "iopub.execute_input": "2025-05-27T11:56:10.299731Z",
     "iopub.status.busy": "2025-05-27T11:56:10.299447Z",
     "iopub.status.idle": "2025-05-27T11:56:10.310458Z",
     "shell.execute_reply": "2025-05-27T11:56:10.309678Z",
     "shell.execute_reply.started": "2025-05-27T11:56:10.299707Z"
    },
    "id": "EQcsL5EKuMC-",
    "outputId": "c838c201-4969-4878-867e-ca36d1428ec1"
   },
   "outputs": [
    {
     "data": {
      "text/plain": [
       "((18000, 3), (2000, 3), (2000, 3))"
      ]
     },
     "execution_count": 5,
     "metadata": {},
     "output_type": "execute_result"
    }
   ],
   "source": [
    "# selecting less datapoints\n",
    "train_ds = data[\"train\"].select(range(18000))\n",
    "val_ds = data[\"validation\"].select(range(2000))\n",
    "test_ds = data[\"test\"].select(range(2000))\n",
    "train_ds.shape , val_ds.shape , test_ds.shape"
   ]
  },
  {
   "cell_type": "code",
   "execution_count": null,
   "metadata": {
    "execution": {
     "iopub.execute_input": "2025-05-27T11:56:10.311518Z",
     "iopub.status.busy": "2025-05-27T11:56:10.311261Z",
     "iopub.status.idle": "2025-05-27T11:56:10.748967Z",
     "shell.execute_reply": "2025-05-27T11:56:10.748293Z",
     "shell.execute_reply.started": "2025-05-27T11:56:10.311495Z"
    },
    "id": "nYc7HZJRuMC-",
    "outputId": "605e2328-6f73-4dde-9ef7-ac52fe8fa35f"
   },
   "outputs": [
    {
     "data": {
      "text/plain": [
       "'LONDON, England (Reuters) -- Harry Potter star Daniel Radcliffe gains access to a reported £20 million ($41.1 million) fortune as he turns 18 on Monday, but he insists the money won\\'t cast a spell on him. Daniel Radcliffe as Harry Potter in \"Harry Potter and the Order of the Phoenix\" To the disappointment of gossip columnists around the world, the young actor says he has no plans to fritter his cash away on fast cars, drink and celebrity parties. \"I don\\'t plan to be one of those people who, as soon as they turn 18, suddenly buy themselves a massive sports car collection or something similar,\" he told an Australian interviewer earlier this month. \"I don\\'t think I\\'ll be particularly extravagant. \"The things I like buying are things that cost about 10 pounds -- books and CDs and DVDs.\" At 18, Radcliffe will be able to gamble in a casino, buy a drink in a pub or see the horror film \"Hostel: Part II,\" currently six places below his number one movie on the UK box office chart. Details of how he\\'ll mark his landmark birthday are under wraps. His agent and publicist had no comment on his plans. \"I\\'ll definitely have some sort of party,\" he said in an interview. \"Hopefully none of you will be reading about it.\" Radcliffe\\'s earnings from the first five Potter films have been held in a trust fund which he has not been able to touch. Despite his growing fame and riches, the actor says he is keeping his feet firmly on the ground. \"People are always looking to say \\'kid star goes off the rails,\\'\" he told reporters last month. \"But I try very hard not to go that way because it would be too easy for them.\" His latest outing as the boy wizard in \"Harry Potter and the Order of the Phoenix\" is breaking records on both sides of the Atlantic and he will reprise the role in the last two films.  Watch I-Reporter give her review of Potter\\'s latest » . There is life beyond Potter, however. The Londoner has filmed a TV movie called \"My Boy Jack,\" about author Rudyard Kipling and his son, due for release later this year. He will also appear in \"December Boys,\" an Australian film about four boys who escape an orphanage. Earlier this year, he made his stage debut playing a tortured teenager in Peter Shaffer\\'s \"Equus.\" Meanwhile, he is braced for even closer media scrutiny now that he\\'s legally an adult: \"I just think I\\'m going to be more sort of fair game,\" he told Reuters. E-mail to a friend . Copyright 2007 Reuters. All rights reserved.This material may not be published, broadcast, rewritten, or redistributed.'"
      ]
     },
     "execution_count": 6,
     "metadata": {},
     "output_type": "execute_result"
    }
   ],
   "source": [
    "train_ds[0][\"article\"]"
   ]
  },
  {
   "cell_type": "code",
   "execution_count": null,
   "metadata": {
    "execution": {
     "iopub.execute_input": "2025-05-27T11:56:10.749875Z",
     "iopub.status.busy": "2025-05-27T11:56:10.749607Z",
     "iopub.status.idle": "2025-05-27T11:56:10.765429Z",
     "shell.execute_reply": "2025-05-27T11:56:10.764774Z",
     "shell.execute_reply.started": "2025-05-27T11:56:10.749857Z"
    },
    "id": "PV-poYxDuMC_",
    "outputId": "f3c3324d-99a3-49d6-df26-53401c790b9a"
   },
   "outputs": [
    {
     "data": {
      "text/plain": [
       "\"Harry Potter star Daniel Radcliffe gets £20M fortune as he turns 18 Monday .\\nYoung actor says he has no plans to fritter his cash away .\\nRadcliffe's earnings from first five Potter films have been held in trust fund .\""
      ]
     },
     "execution_count": 7,
     "metadata": {},
     "output_type": "execute_result"
    }
   ],
   "source": [
    "train_ds[0][\"highlights\"]"
   ]
  },
  {
   "cell_type": "markdown",
   "metadata": {
    "id": "n7E9-5RQuMDA"
   },
   "source": [
    "### Step 2 : Tokenization"
   ]
  },
  {
   "cell_type": "code",
   "execution_count": null,
   "metadata": {
    "colab": {
     "base_uri": "https://localhost:8080/",
     "height": 150,
     "referenced_widgets": [
      "98500e67b2c9447780990d40a8dcb90e",
      "607206e05c754e89a705001e882f7b76",
      "be6addda1689439285271fa3e2bd6930",
      "6979a473ed7941f480a7f5780bb74459",
      "ac617d22cf0042bca168bfed4d962308",
      "550269bed6674bcbb0906ca4e7afa17d",
      "bce65c9a06b941f8ac64dcd2dae0979c",
      "599673b635db49918fa01fb46c15463c",
      "6a83537ecc6448c1acb87fff9d657b07",
      "c43535727fbb4760a6ab3b36c34982a0",
      "9c9ade43d5db4bccaafd5209d5f85172",
      "280ae158157b41c0abbbcdc6d3706f3b",
      "7673347486604795ac4542553a779a78",
      "2eb622b49fb54782bf78bd33fb979970",
      "39e4bf8dd8a84c67b5e494ebcc5c29de",
      "1381d0f322da4294b3af3edbe47ca5bc",
      "00ef2a35772843018d60838f13ccd16c",
      "aa022b6d642943cebc89f9978a85ee32",
      "1dc5342a2b974e7cb2e44a1317c7c999",
      "fcbb1ac8222d4a8f9aeb65b38cec19aa",
      "1ce96afbbb194b1cad2ec8a3246c7a87",
      "914fc15fe86d4316b853edcf4a8eca6d",
      "8398a8f740434c99afe6e18d5200dd64",
      "6b441bdba7874544a475f7224543563c",
      "806b35b351c246e7b31adde05811cf84",
      "dd7e43a17c9e47a7bc7dfc827f7321b0",
      "4a9e469990474b55b36e01e8c1fb2a42",
      "5e4031349e604543ada6a9aacd221066",
      "03d1fbe6844a456ea6742f58617598ad",
      "673a12f479444fd4b57ca198babafd18",
      "b538abb6a5a24cd58bfc3c60a343c843",
      "bd5d46afac664ee68794776a3c62f8c3",
      "30bf0fa587d64f4593d1a6c182f17b73"
     ]
    },
    "execution": {
     "iopub.execute_input": "2025-05-27T11:56:10.766396Z",
     "iopub.status.busy": "2025-05-27T11:56:10.766193Z",
     "iopub.status.idle": "2025-05-27T11:56:11.505116Z",
     "shell.execute_reply": "2025-05-27T11:56:11.504343Z",
     "shell.execute_reply.started": "2025-05-27T11:56:10.766371Z"
    },
    "id": "fgE6OFMbuMDB",
    "outputId": "612332d9-363e-4b90-b499-c57ce82fd794"
   },
   "outputs": [
    {
     "data": {
      "application/vnd.jupyter.widget-view+json": {
       "model_id": "98500e67b2c9447780990d40a8dcb90e",
       "version_major": 2,
       "version_minor": 0
      },
      "text/plain": [
       "tokenizer_config.json:   0%|          | 0.00/2.32k [00:00<?, ?B/s]"
      ]
     },
     "metadata": {},
     "output_type": "display_data"
    },
    {
     "data": {
      "application/vnd.jupyter.widget-view+json": {
       "model_id": "280ae158157b41c0abbbcdc6d3706f3b",
       "version_major": 2,
       "version_minor": 0
      },
      "text/plain": [
       "spiece.model:   0%|          | 0.00/792k [00:00<?, ?B/s]"
      ]
     },
     "metadata": {},
     "output_type": "display_data"
    },
    {
     "data": {
      "application/vnd.jupyter.widget-view+json": {
       "model_id": "8398a8f740434c99afe6e18d5200dd64",
       "version_major": 2,
       "version_minor": 0
      },
      "text/plain": [
       "tokenizer.json:   0%|          | 0.00/1.39M [00:00<?, ?B/s]"
      ]
     },
     "metadata": {},
     "output_type": "display_data"
    },
    {
     "name": "stderr",
     "output_type": "stream",
     "text": [
      "You are using the default legacy behaviour of the <class 'transformers.models.t5.tokenization_t5.T5Tokenizer'>. This is expected, and simply means that the `legacy` (previous) behavior will be used so nothing changes for you. If you want to use the new behaviour, set `legacy=False`. This should only be set if you understand what it means, and thoroughly read the reason why this was added as explained in https://github.com/huggingface/transformers/pull/24565\n"
     ]
    }
   ],
   "source": [
    "from transformers import T5Tokenizer\n",
    "tokenizer = T5Tokenizer.from_pretrained(\"t5-small\")"
   ]
  },
  {
   "cell_type": "code",
   "execution_count": null,
   "metadata": {
    "execution": {
     "iopub.execute_input": "2025-05-27T11:56:11.506240Z",
     "iopub.status.busy": "2025-05-27T11:56:11.505966Z",
     "iopub.status.idle": "2025-05-27T11:56:11.510801Z",
     "shell.execute_reply": "2025-05-27T11:56:11.510125Z",
     "shell.execute_reply.started": "2025-05-27T11:56:11.506217Z"
    },
    "id": "_W6RKjszuMDC"
   },
   "outputs": [],
   "source": [
    "def preprocess(batch):\n",
    "    inputs = [\"summarize: \" + doc for doc in batch[\"article\"]]\n",
    "    model_inp = tokenizer(inputs, max_length=512, truncation=True, padding=\"max_length\")\n",
    "    with tokenizer.as_target_tokenizer():\n",
    "        labels = tokenizer(batch[\"highlights\"], max_length=150, truncation=True, padding=\"max_length\")\n",
    "\n",
    "    model_inp[\"labels\"] = labels[\"input_ids\"]\n",
    "    return model_inp"
   ]
  },
  {
   "cell_type": "code",
   "execution_count": null,
   "metadata": {
    "colab": {
     "referenced_widgets": [
      "c2b99806a97a48fba8af4f35dfa5c3c5",
      "962cae836db6408ab1f9c57b398c3ceb",
      "fe4a10247009474a96db1fbdcb9f61f4"
     ]
    },
    "execution": {
     "iopub.execute_input": "2025-05-27T11:56:11.512679Z",
     "iopub.status.busy": "2025-05-27T11:56:11.512459Z",
     "iopub.status.idle": "2025-05-27T11:57:22.702238Z",
     "shell.execute_reply": "2025-05-27T11:57:22.701334Z",
     "shell.execute_reply.started": "2025-05-27T11:56:11.512655Z"
    },
    "id": "m2TDxBnUuMDC",
    "outputId": "9ebd5bb0-2294-46e4-a3bc-b5d8ca351c52"
   },
   "outputs": [
    {
     "data": {
      "application/vnd.jupyter.widget-view+json": {
       "model_id": "c2b99806a97a48fba8af4f35dfa5c3c5",
       "version_major": 2,
       "version_minor": 0
      },
      "text/plain": [
       "Map:   0%|          | 0/18000 [00:00<?, ? examples/s]"
      ]
     },
     "metadata": {},
     "output_type": "display_data"
    },
    {
     "name": "stderr",
     "output_type": "stream",
     "text": [
      "/usr/local/lib/python3.11/dist-packages/transformers/tokenization_utils_base.py:3980: UserWarning: `as_target_tokenizer` is deprecated and will be removed in v5 of Transformers. You can tokenize your labels by using the argument `text_target` of the regular `__call__` method (either in the same call as your input texts if you use the same keyword arguments, or in a separate call.\n",
      "  warnings.warn(\n"
     ]
    },
    {
     "data": {
      "application/vnd.jupyter.widget-view+json": {
       "model_id": "962cae836db6408ab1f9c57b398c3ceb",
       "version_major": 2,
       "version_minor": 0
      },
      "text/plain": [
       "Map:   0%|          | 0/2000 [00:00<?, ? examples/s]"
      ]
     },
     "metadata": {},
     "output_type": "display_data"
    },
    {
     "data": {
      "application/vnd.jupyter.widget-view+json": {
       "model_id": "fe4a10247009474a96db1fbdcb9f61f4",
       "version_major": 2,
       "version_minor": 0
      },
      "text/plain": [
       "Map:   0%|          | 0/2000 [00:00<?, ? examples/s]"
      ]
     },
     "metadata": {},
     "output_type": "display_data"
    }
   ],
   "source": [
    "train_tok = train_ds.map(preprocess, batched=True, batch_size=16)\n",
    "val_tok = val_ds.map(preprocess, batched=True, batch_size=16)\n",
    "test_tok = test_ds.map(preprocess, batched=True, batch_size=16)"
   ]
  },
  {
   "cell_type": "code",
   "execution_count": null,
   "metadata": {
    "execution": {
     "iopub.execute_input": "2025-05-27T12:03:57.766538Z",
     "iopub.status.busy": "2025-05-27T12:03:57.765425Z",
     "iopub.status.idle": "2025-05-27T12:03:57.771348Z",
     "shell.execute_reply": "2025-05-27T12:03:57.770799Z",
     "shell.execute_reply.started": "2025-05-27T12:03:57.766510Z"
    },
    "id": "74uF-d4FuMDD",
    "outputId": "1f4e9580-3a20-40f6-8c25-c11a53089e73"
   },
   "outputs": [
    {
     "name": "stdout",
     "output_type": "stream",
     "text": [
      "Sample tokenized input IDs: [21603, 10, 301, 24796, 4170, 6, 2789, 41, 18844, 61, 1636, 8929, 16023, 2213, 4173, 6324, 12591, 15, 11391, 592, 12, 3, 9, 2196, 3996, 1755, 770, 8785, 591, 11039, 770, 61, 13462, 38, 3, 88, 5050, 507, 30, 2089, 6, 68, 3, 88, 10419, 7, 8, 540, 751, 31]\n"
     ]
    }
   ],
   "source": [
    "print(f\"Sample tokenized input IDs: {train_tok[0]['input_ids'][:50]}\")"
   ]
  },
  {
   "cell_type": "code",
   "execution_count": null,
   "metadata": {
    "colab": {
     "referenced_widgets": [
      "45d281e3c2574857a3fd11a67024211e",
      "a1dff6a719dd421fbbf2f3d04e9f3a8f",
      "fa8e6b30f55f48ae8f37f44e16a0f864"
     ]
    },
    "execution": {
     "iopub.execute_input": "2025-05-27T12:25:04.408291Z",
     "iopub.status.busy": "2025-05-27T12:25:04.408014Z",
     "iopub.status.idle": "2025-05-27T12:25:04.695922Z",
     "shell.execute_reply": "2025-05-27T12:25:04.695314Z",
     "shell.execute_reply.started": "2025-05-27T12:25:04.408272Z"
    },
    "id": "9HmMIeaxuMDE",
    "outputId": "3d9ea9be-45f6-48bf-e1e7-e06dd0da6b22"
   },
   "outputs": [
    {
     "data": {
      "application/vnd.jupyter.widget-view+json": {
       "model_id": "45d281e3c2574857a3fd11a67024211e",
       "version_major": 2,
       "version_minor": 0
      },
      "text/plain": [
       "Saving the dataset (0/1 shards):   0%|          | 0/18000 [00:00<?, ? examples/s]"
      ]
     },
     "metadata": {},
     "output_type": "display_data"
    },
    {
     "data": {
      "application/vnd.jupyter.widget-view+json": {
       "model_id": "a1dff6a719dd421fbbf2f3d04e9f3a8f",
       "version_major": 2,
       "version_minor": 0
      },
      "text/plain": [
       "Saving the dataset (0/1 shards):   0%|          | 0/2000 [00:00<?, ? examples/s]"
      ]
     },
     "metadata": {},
     "output_type": "display_data"
    },
    {
     "data": {
      "application/vnd.jupyter.widget-view+json": {
       "model_id": "fa8e6b30f55f48ae8f37f44e16a0f864",
       "version_major": 2,
       "version_minor": 0
      },
      "text/plain": [
       "Saving the dataset (0/1 shards):   0%|          | 0/2000 [00:00<?, ? examples/s]"
      ]
     },
     "metadata": {},
     "output_type": "display_data"
    }
   ],
   "source": [
    "train_tok.save_to_disk(\"/kaggle/working/train_tok\")\n",
    "val_tok.save_to_disk(\"/kaggle/working/val_tok\")\n",
    "test_tok.save_to_disk(\"/kaggle/working/test_tok\")"
   ]
  },
  {
   "cell_type": "markdown",
   "metadata": {
    "id": "bc2vmGBvuMDE"
   },
   "source": [
    "### Step 3 : Saving the Tokenized sets"
   ]
  },
  {
   "cell_type": "code",
   "execution_count": null,
   "metadata": {
    "execution": {
     "iopub.execute_input": "2025-05-27T12:27:10.243418Z",
     "iopub.status.busy": "2025-05-27T12:27:10.243117Z",
     "iopub.status.idle": "2025-05-27T12:27:10.246862Z",
     "shell.execute_reply": "2025-05-27T12:27:10.246158Z",
     "shell.execute_reply.started": "2025-05-27T12:27:10.243398Z"
    },
    "id": "3V8Pd0vMuMDE"
   },
   "outputs": [],
   "source": [
    "import shutil\n",
    "import os\n",
    "import zipfile"
   ]
  },
  {
   "cell_type": "code",
   "execution_count": null,
   "metadata": {
    "execution": {
     "iopub.execute_input": "2025-05-27T12:27:17.830778Z",
     "iopub.status.busy": "2025-05-27T12:27:17.830071Z",
     "iopub.status.idle": "2025-05-27T12:27:17.834426Z",
     "shell.execute_reply": "2025-05-27T12:27:17.833678Z",
     "shell.execute_reply.started": "2025-05-27T12:27:17.830753Z"
    },
    "id": "LlBOmQleuMDF"
   },
   "outputs": [],
   "source": [
    "os.makedirs(\"/kaggle/working/all_tok\", exist_ok=True)"
   ]
  },
  {
   "cell_type": "code",
   "execution_count": null,
   "metadata": {
    "execution": {
     "iopub.execute_input": "2025-05-27T12:27:41.342448Z",
     "iopub.status.busy": "2025-05-27T12:27:41.342179Z",
     "iopub.status.idle": "2025-05-27T12:27:52.650496Z",
     "shell.execute_reply": "2025-05-27T12:27:52.649893Z",
     "shell.execute_reply.started": "2025-05-27T12:27:41.342428Z"
    },
    "id": "4jG5m2rSuMDF",
    "outputId": "ba0e9319-2687-4c4a-b153-479825ea3a12"
   },
   "outputs": [
    {
     "data": {
      "text/plain": [
       "'/kaggle/working/all_tokenized_data.zip'"
      ]
     },
     "execution_count": 39,
     "metadata": {},
     "output_type": "execute_result"
    }
   ],
   "source": [
    "shutil.copytree(\"/kaggle/working/train_tok\", \"/kaggle/working/all_tok/train_tok\")\n",
    "shutil.copytree(\"/kaggle/working/val_tok\", \"/kaggle/working/all_tok/val_tok\")\n",
    "shutil.copytree(\"/kaggle/working/test_tok\", \"/kaggle/working/all_tok/test_tok\")\n",
    "\n",
    "# Now zip the combined folder\n",
    "shutil.make_archive(\"/kaggle/working/all_tokenized_data\", 'zip', \"/kaggle/working/all_tok\")"
   ]
  },
  {
   "cell_type": "markdown",
   "metadata": {
    "id": "UnkdTg57udzu"
   },
   "source": [
    "### Step 4 : Loading the Tokenized sets"
   ]
  },
  {
   "cell_type": "code",
   "execution_count": null,
   "metadata": {
    "id": "90oKG5yQub-R"
   },
   "outputs": [],
   "source": [
    "zip_path = \"/content/all_tokenized_data.zip\""
   ]
  },
  {
   "cell_type": "code",
   "execution_count": null,
   "metadata": {
    "id": "HadvsamPvE12"
   },
   "outputs": [],
   "source": [
    "with zipfile.ZipFile(zip_path, 'r') as zip_ref:\n",
    "    zip_ref.extractall(\"/content/\")"
   ]
  },
  {
   "cell_type": "code",
   "execution_count": null,
   "metadata": {
    "id": "-l0tntU1vEyd"
   },
   "outputs": [],
   "source": [
    "from datasets import load_from_disk\n",
    "\n",
    "train_tok = load_from_disk(\"/content/train_tok\")\n",
    "val_tok = load_from_disk(\"/content/val_tok\")\n",
    "test_tok = load_from_disk(\"/content/test_tok\")"
   ]
  },
  {
   "cell_type": "code",
   "execution_count": null,
   "metadata": {
    "colab": {
     "base_uri": "https://localhost:8080/"
    },
    "id": "NfDG7VEZvEv0",
    "outputId": "f3b982f5-09e6-46aa-b3cc-2741a94c9efe"
   },
   "outputs": [
    {
     "name": "stdout",
     "output_type": "stream",
     "text": [
      "Dataset({\n",
      "    features: ['article', 'highlights', 'id', 'input_ids', 'attention_mask', 'labels'],\n",
      "    num_rows: 18000\n",
      "})\n",
      "Dataset({\n",
      "    features: ['article', 'highlights', 'id', 'input_ids', 'attention_mask', 'labels'],\n",
      "    num_rows: 2000\n",
      "})\n",
      "Dataset({\n",
      "    features: ['article', 'highlights', 'id', 'input_ids', 'attention_mask', 'labels'],\n",
      "    num_rows: 2000\n",
      "})\n"
     ]
    }
   ],
   "source": [
    "print(train_tok)\n",
    "print(val_tok)\n",
    "print(test_tok)"
   ]
  },
  {
   "cell_type": "markdown",
   "metadata": {
    "id": "yAfnb117uMDF"
   },
   "source": [
    "### Step 5 : Load the Model"
   ]
  },
  {
   "cell_type": "code",
   "execution_count": null,
   "metadata": {
    "colab": {
     "base_uri": "https://localhost:8080/",
     "height": 272,
     "referenced_widgets": [
      "36f630a0714047d3beb347a9e4dded32",
      "4e5670a916424d4b8b9b770376a66e52",
      "f6aea1055d0944c09a61042561aad567",
      "f3bc2b7a689c41ffbd2b939159b82bc6",
      "50774860ff68449d9ea6206a82efdf33",
      "f89fb04a7c874250a6676e34038cf877",
      "17abbe0bb0cf4b3e9390355675187c4e",
      "0065fb17877740709674cabd5884abe4",
      "848ca0ee69bc44e482b1af3e68796e50",
      "5b1ba02191bf4e06be509f24a3abdfe0",
      "32d9524e9ff54694a2c53f7e570c3bae",
      "cd912a83c22b430586fb6fed0e9f8a8b",
      "f44de7f1ae134591ba42cdb10bb3edd4",
      "d3d6f1b95a964640b542ed1f3e8e7fa4",
      "0f88eadc61e141fc9495e642b88bf47f",
      "fe148761534b4fe8b27c6cdf4d6f4a22",
      "15a9cfa410584800b386432e08e4ceae",
      "8dbc81fa54e24bfe9ed6bc8b811d11e5",
      "fe682251718b4c47828ed39986cce3e4",
      "1fd9f810258b4fc0a2ffc23f70c6bba7",
      "a58195eea1a44f58b0fb9ec005dfe4cd",
      "960edc8593624df3a54582abcd975b66",
      "67ed3b2164124cfe92a1fc7460b4ea26",
      "332d755f60d1446d9d92e7f04565c373",
      "e60a27d3abb54583ac18af4429af653e",
      "78eaf7a07e504fafb67af06b46710bd6",
      "304ef06a6a784c0fa18ab3c40af20795",
      "e893bfb7d84d4fd8b478538bef18b5e1",
      "c1d29e4447b14fd5ae4b2ebf6cdc5d9d",
      "3a45e903710d493391fb473f77bf19f9",
      "abf6fb2a1c9f43b7b1f99115cf046499",
      "f7ec7d830014430e8d1cdf3b1a7f171a",
      "99e95a4a2a084aa9afd6ecb5b6862e44"
     ]
    },
    "execution": {
     "iopub.execute_input": "2025-05-27T12:01:00.986167Z",
     "iopub.status.busy": "2025-05-27T12:01:00.985203Z",
     "iopub.status.idle": "2025-05-27T12:01:38.826494Z",
     "shell.execute_reply": "2025-05-27T12:01:38.825702Z",
     "shell.execute_reply.started": "2025-05-27T12:01:00.986144Z"
    },
    "id": "6O6Cw-2kuMDF",
    "outputId": "e8cd4028-5a57-49e3-834f-9136d5b34548"
   },
   "outputs": [
    {
     "name": "stderr",
     "output_type": "stream",
     "text": [
      "/usr/local/lib/python3.11/dist-packages/huggingface_hub/utils/_auth.py:94: UserWarning: \n",
      "The secret `HF_TOKEN` does not exist in your Colab secrets.\n",
      "To authenticate with the Hugging Face Hub, create a token in your settings tab (https://huggingface.co/settings/tokens), set it as secret in your Google Colab and restart your session.\n",
      "You will be able to reuse this secret in all of your notebooks.\n",
      "Please note that authentication is recommended but still optional to access public models or datasets.\n",
      "  warnings.warn(\n"
     ]
    },
    {
     "data": {
      "application/vnd.jupyter.widget-view+json": {
       "model_id": "36f630a0714047d3beb347a9e4dded32",
       "version_major": 2,
       "version_minor": 0
      },
      "text/plain": [
       "config.json:   0%|          | 0.00/1.21k [00:00<?, ?B/s]"
      ]
     },
     "metadata": {},
     "output_type": "display_data"
    },
    {
     "name": "stderr",
     "output_type": "stream",
     "text": [
      "Xet Storage is enabled for this repo, but the 'hf_xet' package is not installed. Falling back to regular HTTP download. For better performance, install the package with: `pip install huggingface_hub[hf_xet]` or `pip install hf_xet`\n",
      "WARNING:huggingface_hub.file_download:Xet Storage is enabled for this repo, but the 'hf_xet' package is not installed. Falling back to regular HTTP download. For better performance, install the package with: `pip install huggingface_hub[hf_xet]` or `pip install hf_xet`\n"
     ]
    },
    {
     "data": {
      "application/vnd.jupyter.widget-view+json": {
       "model_id": "cd912a83c22b430586fb6fed0e9f8a8b",
       "version_major": 2,
       "version_minor": 0
      },
      "text/plain": [
       "model.safetensors:   0%|          | 0.00/242M [00:00<?, ?B/s]"
      ]
     },
     "metadata": {},
     "output_type": "display_data"
    },
    {
     "data": {
      "application/vnd.jupyter.widget-view+json": {
       "model_id": "67ed3b2164124cfe92a1fc7460b4ea26",
       "version_major": 2,
       "version_minor": 0
      },
      "text/plain": [
       "generation_config.json:   0%|          | 0.00/147 [00:00<?, ?B/s]"
      ]
     },
     "metadata": {},
     "output_type": "display_data"
    }
   ],
   "source": [
    "from transformers import T5ForConditionalGeneration\n",
    "\n",
    "model = T5ForConditionalGeneration.from_pretrained(\"t5-small\")"
   ]
  },
  {
   "cell_type": "code",
   "execution_count": null,
   "metadata": {
    "execution": {
     "iopub.execute_input": "2025-05-27T12:11:33.271473Z",
     "iopub.status.busy": "2025-05-27T12:11:33.270917Z",
     "iopub.status.idle": "2025-05-27T12:11:33.274576Z",
     "shell.execute_reply": "2025-05-27T12:11:33.274022Z",
     "shell.execute_reply.started": "2025-05-27T12:11:33.271451Z"
    },
    "id": "ONa5Yo1suMDG"
   },
   "outputs": [],
   "source": [
    "# !pip install rouge_score\n",
    "!pip install evaluate"
   ]
  },
  {
   "cell_type": "code",
   "execution_count": null,
   "metadata": {
    "execution": {
     "iopub.execute_input": "2025-05-27T12:11:34.094140Z",
     "iopub.status.busy": "2025-05-27T12:11:34.093892Z",
     "iopub.status.idle": "2025-05-27T12:11:34.097465Z",
     "shell.execute_reply": "2025-05-27T12:11:34.096931Z",
     "shell.execute_reply.started": "2025-05-27T12:11:34.094123Z"
    },
    "id": "8wZ2cIgcuMDG"
   },
   "outputs": [],
   "source": [
    "import numpy as np\n",
    "import evaluate"
   ]
  },
  {
   "cell_type": "code",
   "execution_count": null,
   "metadata": {
    "colab": {
     "base_uri": "https://localhost:8080/",
     "height": 49,
     "referenced_widgets": [
      "168af63d004345158efb3f62383b9f42",
      "c40b7eb081e64de8bba2ec753d32b41d",
      "3d072a98c13348ac8332b3a48e6d6a04",
      "732e9e5ab06b4067b190b0228af68aa7",
      "19397cf4b5894c368361c3b8af3625f9",
      "8138ab352c4c49d5b5369a63542fc65b",
      "2e796b7e98594fc7a8cfac4a26dae0b3",
      "ef58b232e1c74bac84d6ca516144423a",
      "695a88c2d9934eaca4c34d4d068e81e0",
      "0758cf4209d441bba37c63f78097f7b0",
      "c0321e39f68f446da1c4375fde279905"
     ]
    },
    "execution": {
     "iopub.execute_input": "2025-05-27T12:11:21.706480Z",
     "iopub.status.busy": "2025-05-27T12:11:21.706209Z",
     "iopub.status.idle": "2025-05-27T12:11:22.025750Z",
     "shell.execute_reply": "2025-05-27T12:11:22.025207Z",
     "shell.execute_reply.started": "2025-05-27T12:11:21.706460Z"
    },
    "id": "UgITdQV9uMDG",
    "outputId": "004488ba-e588-448a-f557-21e8859878c1"
   },
   "outputs": [
    {
     "data": {
      "application/vnd.jupyter.widget-view+json": {
       "model_id": "168af63d004345158efb3f62383b9f42",
       "version_major": 2,
       "version_minor": 0
      },
      "text/plain": [
       "Downloading builder script:   0%|          | 0.00/6.27k [00:00<?, ?B/s]"
      ]
     },
     "metadata": {},
     "output_type": "display_data"
    }
   ],
   "source": [
    "# using the rouge score for evaluation\n",
    "rouge = evaluate.load(\"rouge\")"
   ]
  },
  {
   "cell_type": "code",
   "execution_count": null,
   "metadata": {
    "execution": {
     "iopub.execute_input": "2025-05-27T12:12:16.347828Z",
     "iopub.status.busy": "2025-05-27T12:12:16.347267Z",
     "iopub.status.idle": "2025-05-27T12:12:16.352610Z",
     "shell.execute_reply": "2025-05-27T12:12:16.352090Z",
     "shell.execute_reply.started": "2025-05-27T12:12:16.347806Z"
    },
    "id": "k6w0v32euMDG"
   },
   "outputs": [],
   "source": [
    "def compute_metrics(eval_pred):\n",
    "    predictions, labels = eval_pred\n",
    "    predictions = np.where(predictions != -100, predictions, tokenizer.pad_token_id)\n",
    "\n",
    "    decoded_preds = tokenizer.batch_decode(predictions, skip_special_tokens=True)\n",
    "    decoded_labels = tokenizer.batch_decode(labels, skip_special_tokens=True)\n",
    "\n",
    "    result = rouge.compute(predictions=decoded_preds, references=decoded_labels, use_stemmer=True)\n",
    "    result = {k: round(v * 100, 2) for k, v in result.items()}\n",
    "\n",
    "    gen_lens = [np.count_nonzero(pred != tokenizer.pad_token_id) for pred in predictions]\n",
    "    result[\"gen_len\"] = round(np.mean(gen_lens), 2)\n",
    "\n",
    "    return result"
   ]
  },
  {
   "cell_type": "markdown",
   "metadata": {
    "id": "sylPD16tuMDG"
   },
   "source": [
    "### Step 6 : Set Training Arguments"
   ]
  },
  {
   "cell_type": "code",
   "execution_count": null,
   "metadata": {
    "execution": {
     "iopub.execute_input": "2025-05-27T12:12:36.098579Z",
     "iopub.status.busy": "2025-05-27T12:12:36.097969Z",
     "iopub.status.idle": "2025-05-27T12:12:36.112610Z",
     "shell.execute_reply": "2025-05-27T12:12:36.111989Z",
     "shell.execute_reply.started": "2025-05-27T12:12:36.098559Z"
    },
    "id": "3g8FHWGRuMDH"
   },
   "outputs": [],
   "source": [
    "from transformers import Seq2SeqTrainingArguments"
   ]
  },
  {
   "cell_type": "code",
   "execution_count": null,
   "metadata": {
    "execution": {
     "iopub.execute_input": "2025-05-27T12:16:27.014457Z",
     "iopub.status.busy": "2025-05-27T12:16:27.013955Z",
     "iopub.status.idle": "2025-05-27T12:16:28.730103Z",
     "shell.execute_reply": "2025-05-27T12:16:28.729331Z",
     "shell.execute_reply.started": "2025-05-27T12:16:27.014436Z"
    },
    "id": "lF4GtZ86uMDH"
   },
   "outputs": [],
   "source": [
    "training_args = Seq2SeqTrainingArguments(\n",
    "    output_dir=\"./results\",\n",
    "    eval_strategy=\"epoch\",\n",
    "    save_strategy=\"epoch\",\n",
    "    learning_rate=3e-4,\n",
    "    per_device_train_batch_size=8,\n",
    "    per_device_eval_batch_size=8,\n",
    "    weight_decay=0.01,\n",
    "    save_total_limit=2,\n",
    "    num_train_epochs=5,\n",
    "    predict_with_generate=True,\n",
    "    logging_dir=\"./logs\",\n",
    "    logging_strategy=\"epoch\",\n",
    "    generation_max_length=150,\n",
    "    generation_num_beams=4,\n",
    "    fp16=True\n",
    ")"
   ]
  },
  {
   "cell_type": "markdown",
   "metadata": {
    "id": "_Awa-McQuMDH"
   },
   "source": [
    "### Step 7 : Setup Trainer and Start Training"
   ]
  },
  {
   "cell_type": "code",
   "execution_count": null,
   "metadata": {
    "execution": {
     "iopub.execute_input": "2025-05-27T12:17:42.747268Z",
     "iopub.status.busy": "2025-05-27T12:17:42.746510Z",
     "iopub.status.idle": "2025-05-27T12:17:43.307297Z",
     "shell.execute_reply": "2025-05-27T12:17:43.306749Z",
     "shell.execute_reply.started": "2025-05-27T12:17:42.747243Z"
    },
    "id": "n_KFLKxKuMDH"
   },
   "outputs": [],
   "source": [
    "from transformers import DataCollatorForSeq2Seq, Seq2SeqTrainer\n",
    "data_collator = DataCollatorForSeq2Seq(tokenizer, model=model)"
   ]
  },
  {
   "cell_type": "code",
   "execution_count": null,
   "metadata": {
    "colab": {
     "base_uri": "https://localhost:8080/"
    },
    "execution": {
     "iopub.execute_input": "2025-05-27T12:18:21.681454Z",
     "iopub.status.busy": "2025-05-27T12:18:21.680712Z",
     "iopub.status.idle": "2025-05-27T12:18:26.018572Z",
     "shell.execute_reply": "2025-05-27T12:18:26.017567Z",
     "shell.execute_reply.started": "2025-05-27T12:18:21.681434Z"
    },
    "id": "83Ax6iiMuMDI",
    "outputId": "c4cf158c-8179-46b5-c81d-a43dfdaaa84c"
   },
   "outputs": [
    {
     "name": "stderr",
     "output_type": "stream",
     "text": [
      "<ipython-input-30-ba2df6670b83>:1: FutureWarning: `tokenizer` is deprecated and will be removed in version 5.0.0 for `Seq2SeqTrainer.__init__`. Use `processing_class` instead.\n",
      "  trainer = Seq2SeqTrainer(\n"
     ]
    }
   ],
   "source": [
    "trainer = Seq2SeqTrainer(\n",
    "    model= model,\n",
    "    args= training_args,\n",
    "    train_dataset= train_tok,\n",
    "    eval_dataset= val_tok,\n",
    "    tokenizer= tokenizer,\n",
    "    data_collator= data_collator,\n",
    "    compute_metrics= compute_metrics\n",
    ")"
   ]
  },
  {
   "cell_type": "code",
   "execution_count": null,
   "metadata": {
    "colab": {
     "base_uri": "https://localhost:8080/",
     "height": 509
    },
    "execution": {
     "iopub.execute_input": "2025-05-27T12:18:41.197843Z",
     "iopub.status.busy": "2025-05-27T12:18:41.197274Z",
     "iopub.status.idle": "2025-05-27T12:24:51.558021Z",
     "shell.execute_reply": "2025-05-27T12:24:51.556969Z",
     "shell.execute_reply.started": "2025-05-27T12:18:41.197817Z"
    },
    "id": "qz0Nm1cTuMDJ",
    "outputId": "2408ec38-4b8a-44c6-edd9-7152677e5e4f"
   },
   "outputs": [
    {
     "data": {
      "application/javascript": [
       "\n",
       "        window._wandbApiKey = new Promise((resolve, reject) => {\n",
       "            function loadScript(url) {\n",
       "            return new Promise(function(resolve, reject) {\n",
       "                let newScript = document.createElement(\"script\");\n",
       "                newScript.onerror = reject;\n",
       "                newScript.onload = resolve;\n",
       "                document.body.appendChild(newScript);\n",
       "                newScript.src = url;\n",
       "            });\n",
       "            }\n",
       "            loadScript(\"https://cdn.jsdelivr.net/npm/postmate/build/postmate.min.js\").then(() => {\n",
       "            const iframe = document.createElement('iframe')\n",
       "            iframe.style.cssText = \"width:0;height:0;border:none\"\n",
       "            document.body.appendChild(iframe)\n",
       "            const handshake = new Postmate({\n",
       "                container: iframe,\n",
       "                url: 'https://wandb.ai/authorize'\n",
       "            });\n",
       "            const timeout = setTimeout(() => reject(\"Couldn't auto authenticate\"), 5000)\n",
       "            handshake.then(function(child) {\n",
       "                child.on('authorize', data => {\n",
       "                    clearTimeout(timeout)\n",
       "                    resolve(data)\n",
       "                });\n",
       "            });\n",
       "            })\n",
       "        });\n",
       "    "
      ],
      "text/plain": [
       "<IPython.core.display.Javascript object>"
      ]
     },
     "metadata": {},
     "output_type": "display_data"
    },
    {
     "name": "stderr",
     "output_type": "stream",
     "text": [
      "\u001b[34m\u001b[1mwandb\u001b[0m: Logging into wandb.ai. (Learn how to deploy a W&B server locally: https://wandb.me/wandb-server)\n",
      "\u001b[34m\u001b[1mwandb\u001b[0m: You can find your API key in your browser here: https://wandb.ai/authorize?ref=models\n",
      "wandb: Paste an API key from your profile and hit enter:"
     ]
    },
    {
     "name": "stdout",
     "output_type": "stream",
     "text": [
      " ··········\n"
     ]
    },
    {
     "name": "stderr",
     "output_type": "stream",
     "text": [
      "\u001b[34m\u001b[1mwandb\u001b[0m: \u001b[33mWARNING\u001b[0m If you're specifying your api key in code, ensure this code is not shared publicly.\n",
      "\u001b[34m\u001b[1mwandb\u001b[0m: \u001b[33mWARNING\u001b[0m Consider setting the WANDB_API_KEY environment variable, or running `wandb login` from the command line.\n",
      "\u001b[34m\u001b[1mwandb\u001b[0m: No netrc file found, creating one.\n",
      "\u001b[34m\u001b[1mwandb\u001b[0m: Appending key for api.wandb.ai to your netrc file: /root/.netrc\n",
      "\u001b[34m\u001b[1mwandb\u001b[0m: Currently logged in as: \u001b[33mkodamkarthik03\u001b[0m (\u001b[33mkodamkarthik03-innomatics-research-labs\u001b[0m) to \u001b[32mhttps://api.wandb.ai\u001b[0m. Use \u001b[1m`wandb login --relogin`\u001b[0m to force relogin\n"
     ]
    },
    {
     "data": {
      "text/html": [
       "Tracking run with wandb version 0.19.11"
      ],
      "text/plain": [
       "<IPython.core.display.HTML object>"
      ]
     },
     "metadata": {},
     "output_type": "display_data"
    },
    {
     "data": {
      "text/html": [
       "Run data is saved locally in <code>/content/wandb/run-20250527_125357-22n21g4n</code>"
      ],
      "text/plain": [
       "<IPython.core.display.HTML object>"
      ]
     },
     "metadata": {},
     "output_type": "display_data"
    },
    {
     "data": {
      "text/html": [
       "Syncing run <strong><a href='https://wandb.ai/kodamkarthik03-innomatics-research-labs/huggingface/runs/22n21g4n' target=\"_blank\">./results</a></strong> to <a href='https://wandb.ai/kodamkarthik03-innomatics-research-labs/huggingface' target=\"_blank\">Weights & Biases</a> (<a href='https://wandb.me/developer-guide' target=\"_blank\">docs</a>)<br>"
      ],
      "text/plain": [
       "<IPython.core.display.HTML object>"
      ]
     },
     "metadata": {},
     "output_type": "display_data"
    },
    {
     "data": {
      "text/html": [
       " View project at <a href='https://wandb.ai/kodamkarthik03-innomatics-research-labs/huggingface' target=\"_blank\">https://wandb.ai/kodamkarthik03-innomatics-research-labs/huggingface</a>"
      ],
      "text/plain": [
       "<IPython.core.display.HTML object>"
      ]
     },
     "metadata": {},
     "output_type": "display_data"
    },
    {
     "data": {
      "text/html": [
       " View run at <a href='https://wandb.ai/kodamkarthik03-innomatics-research-labs/huggingface/runs/22n21g4n' target=\"_blank\">https://wandb.ai/kodamkarthik03-innomatics-research-labs/huggingface/runs/22n21g4n</a>"
      ],
      "text/plain": [
       "<IPython.core.display.HTML object>"
      ]
     },
     "metadata": {},
     "output_type": "display_data"
    },
    {
     "data": {
      "text/html": [
       "\n",
       "    <div>\n",
       "      \n",
       "      <progress value='11250' max='11250' style='width:300px; height:20px; vertical-align: middle;'></progress>\n",
       "      [11250/11250 1:24:32, Epoch 5/5]\n",
       "    </div>\n",
       "    <table border=\"1\" class=\"dataframe\">\n",
       "  <thead>\n",
       " <tr style=\"text-align: left;\">\n",
       "      <th>Epoch</th>\n",
       "      <th>Training Loss</th>\n",
       "      <th>Validation Loss</th>\n",
       "      <th>Rouge1</th>\n",
       "      <th>Rouge2</th>\n",
       "      <th>Rougel</th>\n",
       "      <th>Rougelsum</th>\n",
       "      <th>Gen Len</th>\n",
       "    </tr>\n",
       "  </thead>\n",
       "  <tbody>\n",
       "    <tr>\n",
       "      <td>1</td>\n",
       "      <td>0.872200</td>\n",
       "      <td>0.823182</td>\n",
       "      <td>34.010000</td>\n",
       "      <td>13.990000</td>\n",
       "      <td>23.810000</td>\n",
       "      <td>23.810000</td>\n",
       "      <td>97.220000</td>\n",
       "    </tr>\n",
       "    <tr>\n",
       "      <td>2</td>\n",
       "      <td>0.860200</td>\n",
       "      <td>0.823430</td>\n",
       "      <td>34.710000</td>\n",
       "      <td>14.310000</td>\n",
       "      <td>23.980000</td>\n",
       "      <td>23.960000</td>\n",
       "      <td>101.180000</td>\n",
       "    </tr>\n",
       "    <tr>\n",
       "      <td>3</td>\n",
       "      <td>0.820600</td>\n",
       "      <td>0.828837</td>\n",
       "      <td>34.540000</td>\n",
       "      <td>14.180000</td>\n",
       "      <td>23.950000</td>\n",
       "      <td>23.950000</td>\n",
       "      <td>101.160000</td>\n",
       "    </tr>\n",
       "    <tr>\n",
       "      <td>4</td>\n",
       "      <td>0.790500</td>\n",
       "      <td>0.832386</td>\n",
       "      <td>34.780000</td>\n",
       "      <td>14.360000</td>\n",
       "      <td>24.150000</td>\n",
       "      <td>24.120000</td>\n",
       "      <td>99.270000</td>\n",
       "    </tr>\n",
       "    <tr>\n",
       "      <td>5</td>\n",
       "      <td>0.769200</td>\n",
       "      <td>0.836604</td>\n",
       "      <td>35.080000</td>\n",
       "      <td>14.570000</td>\n",
       "      <td>24.380000</td>\n",
       "      <td>24.370000</td>\n",
       "      <td>98.610000</td>\n",
       "    </tr>\n",
       "  </tbody>\n",
       "</table><p>"
      ],
      "text/plain": [
       "<IPython.core.display.HTML object>"
      ]
     },
     "metadata": {},
     "output_type": "display_data"
    },
    {
     "data": {
      "text/plain": [
       "TrainOutput(global_step=11250, training_loss=0.8225454969618056, metrics={'train_runtime': 5095.9781, 'train_samples_per_second': 17.661, 'train_steps_per_second': 2.208, 'total_flos': 1.218076213248e+16, 'train_loss': 0.8225454969618056, 'epoch': 5.0})"
      ]
     },
     "execution_count": 31,
     "metadata": {},
     "output_type": "execute_result"
    }
   ],
   "source": [
    "trainer.train()"
   ]
  },
  {
   "cell_type": "markdown",
   "metadata": {
    "id": "oP0F9JT_05fY"
   },
   "source": [
    "### Step 8 : Save the Model and Tokenizer"
   ]
  },
  {
   "cell_type": "code",
   "execution_count": null,
   "metadata": {
    "id": "O3xjA15901wm"
   },
   "outputs": [],
   "source": [
    "model_path = \"/content/t5_cnn_summary_model\"\n",
    "model.save_pretrained(model_path)\n",
    "tokenizer.save_pretrained(model_path)"
   ]
  },
  {
   "cell_type": "code",
   "execution_count": null,
   "metadata": {
    "id": "UNvTyjLaH4qM"
   },
   "outputs": [],
   "source": [
    "model_path = \"/content/t5_cnn_summary_model\"\n",
    "shutil.make_archive(\"t5_cnn_summary_model\", 'zip', model_path)"
   ]
  },
  {
   "cell_type": "markdown",
   "metadata": {
    "id": "PShHyqBJuMDJ"
   },
   "source": [
    "### Step 9 : Evaluate on Test Set"
   ]
  },
  {
   "cell_type": "code",
   "execution_count": null,
   "metadata": {
    "colab": {
     "base_uri": "https://localhost:8080/",
     "height": 211
    },
    "id": "Ve5lyR97uMDJ",
    "outputId": "12c98eb6-1051-4d6f-a16e-c2396f3b7501"
   },
   "outputs": [
    {
     "data": {
      "text/html": [
       "\n",
       "    <div>\n",
       "      \n",
       "      <progress value='250' max='250' style='width:300px; height:20px; vertical-align: middle;'></progress>\n",
       "      [250/250 08:15]\n",
       "    </div>\n",
       "    "
      ],
      "text/plain": [
       "<IPython.core.display.HTML object>"
      ]
     },
     "metadata": {},
     "output_type": "display_data"
    },
    {
     "data": {
      "text/plain": [
       "{'eval_loss': 0.8116223216056824,\n",
       " 'eval_rouge1': 36.33,\n",
       " 'eval_rouge2': 15.67,\n",
       " 'eval_rougeL': 25.67,\n",
       " 'eval_rougeLsum': 25.65,\n",
       " 'eval_gen_len': 98.72,\n",
       " 'eval_runtime': 550.5062,\n",
       " 'eval_samples_per_second': 3.633,\n",
       " 'eval_steps_per_second': 0.454,\n",
       " 'epoch': 5.0}"
      ]
     },
     "execution_count": 35,
     "metadata": {},
     "output_type": "execute_result"
    }
   ],
   "source": [
    "trainer.evaluate(test_tok)"
   ]
  },
  {
   "cell_type": "markdown",
   "metadata": {
    "id": "o-g7NM-61Ip3"
   },
   "source": [
    "### Step 10 : Predictions"
   ]
  },
  {
   "cell_type": "code",
   "execution_count": null,
   "metadata": {
    "id": "UkHlku-RJgKT"
   },
   "outputs": [],
   "source": [
    "import zipfile\n",
    "import os\n",
    "\n",
    "with zipfile.ZipFile(\"t5_cnn_summary_model.zip\", 'r') as zip_ref:\n",
    "    zip_ref.extractall(\"t5_cnn_summary_model\")"
   ]
  },
  {
   "cell_type": "code",
   "execution_count": null,
   "metadata": {
    "id": "n6bf5AOF1HQd"
   },
   "outputs": [],
   "source": [
    "from transformers import T5ForConditionalGeneration, T5Tokenizer\n",
    "\n",
    "# Load the saved model and tokenizer\n",
    "model = T5ForConditionalGeneration.from_pretrained('t5_cnn_summary_model')\n",
    "tokenizer = T5Tokenizer.from_pretrained('t5_cnn_summary_model')"
   ]
  },
  {
   "cell_type": "code",
   "execution_count": null,
   "metadata": {
    "colab": {
     "base_uri": "https://localhost:8080/"
    },
    "id": "iGxeYkjU1OnP",
    "outputId": "9c30b2db-56e3-4f37-a0f7-ebcfd61f95a7"
   },
   "outputs": [
    {
     "name": "stdout",
     "output_type": "stream",
     "text": [
      "Generated Summary:\n",
      " Palestinian Authority officially becomes 123rd member of the International Criminal Court. The move gives the court jurisdiction over alleged crimes in Palestinian territories. Palestinians signed the ICC's founding Rome Statute in January. Palestinians may be subject to counter-charges as well as counter-charges.\n",
      "\n",
      "Reference Summary:\n",
      " Membership gives the ICC jurisdiction over alleged crimes committed in Palestinian territories since last June .\n",
      "Israel and the United States opposed the move, which could open the door to war crimes investigations against Israelis .\n"
     ]
    }
   ],
   "source": [
    "sample = test_tok[0]\n",
    "input_ids = tokenizer.encode(sample[\"article\"], return_tensors=\"pt\", max_length=512, truncation=True)\n",
    "\n",
    "output_ids = model.generate(input_ids, max_length=150, num_beams=4, early_stopping=True)\n",
    "summary = tokenizer.decode(output_ids[0], skip_special_tokens=True)\n",
    "\n",
    "print(\"Generated Summary:\\n\", summary)\n",
    "print(\"\\nReference Summary:\\n\", sample[\"highlights\"])"
   ]
  },
  {
   "cell_type": "markdown",
   "metadata": {
    "id": "UiTugSHKQsiy"
   },
   "source": [
    "### Predictions with Test Data"
   ]
  },
  {
   "cell_type": "code",
   "execution_count": null,
   "metadata": {
    "id": "0Bx9_O1c1Ogo"
   },
   "outputs": [],
   "source": [
    "def generate_summary(sample, model, tokenizer, max_input_len=512, max_output_len=150, num_beams=4):\n",
    "\n",
    "  input_ids = tokenizer.encode(\n",
    "    \"summarize: \" + sample[\"article\"], return_tensors= \"pt\",\n",
    "    max_length= max_input_len, truncation= True)\n",
    "\n",
    "  output_ids = model.generate(input_ids,max_length=max_output_len,num_beams=num_beams,early_stopping=True)\n",
    "\n",
    "  summary = tokenizer.decode(output_ids[0], skip_special_tokens=True)\n",
    "\n",
    "  reference = sample.get(\"highlights\", None)\n",
    "  if reference:\n",
    "    return summary, reference\n",
    "  return summary"
   ]
  },
  {
   "cell_type": "code",
   "execution_count": null,
   "metadata": {
    "colab": {
     "base_uri": "https://localhost:8080/"
    },
    "id": "PUJbNxtIP7Cj",
    "outputId": "74b81ce8-e647-48a4-c554-9d25a7c176d6"
   },
   "outputs": [
    {
     "name": "stdout",
     "output_type": "stream",
     "text": [
      "Generated Summary:\n",
      " The Palestinian Authority officially became the 123rd member of the International Criminal Court. The formal accession was marked with a ceremony at The Hague, in the Netherlands. The ICC opened a preliminary examination into the situation in Palestinian territories.\n",
      "\n",
      "Reference Summary:\n",
      " Membership gives the ICC jurisdiction over alleged crimes committed in Palestinian territories since last June .\n",
      "Israel and the United States opposed the move, which could open the door to war crimes investigations against Israelis .\n"
     ]
    }
   ],
   "source": [
    "sample = test_tok[0]\n",
    "\n",
    "generated, reference = generate_summary(sample, model, tokenizer)\n",
    "print(\"Generated Summary:\\n\", generated)\n",
    "print(\"\\nReference Summary:\\n\", reference)"
   ]
  },
  {
   "cell_type": "code",
   "execution_count": null,
   "metadata": {
    "colab": {
     "base_uri": "https://localhost:8080/"
    },
    "id": "lsEFRQXuQAwJ",
    "outputId": "13f2bb00-2e91-4009-a951-d52bd8dcd562"
   },
   "outputs": [
    {
     "name": "stdout",
     "output_type": "stream",
     "text": [
      "Generated Summary:\n",
      " Suzanne Crough played youngest daughter Tracy on \"The Partridge Family\" The group consisted of a widowed mom, played by Shirley Jones, and her five children. Redheaded Crough was raised in Los Angeles, the youngest of eight children.\n",
      "\n",
      "Reference Summary:\n",
      " Suzanne Crough was the youngest member of TV's \"Partridge Family\"\n",
      "Crough died Monday at 52 in Nevada .\n"
     ]
    }
   ],
   "source": [
    "sample = test_tok[732]\n",
    "\n",
    "generated, reference = generate_summary(sample, model, tokenizer)\n",
    "print(\"Generated Summary:\\n\", generated)\n",
    "print(\"\\nReference Summary:\\n\", reference)"
   ]
  },
  {
   "cell_type": "code",
   "execution_count": null,
   "metadata": {
    "colab": {
     "base_uri": "https://localhost:8080/"
    },
    "id": "D3k73WUJQCLp",
    "outputId": "c2109c3a-3af9-40fe-e7bb-f1fd23dec1f6"
   },
   "outputs": [
    {
     "name": "stdout",
     "output_type": "stream",
     "text": [
      "Generated Summary:\n",
      " Gary Bowyer challenged Jordan Rhodes to become an FA Cup hero. The 17-goal striker scored the winner in Wednesday night's sixth-round replay. The championship underdogs face Liverpool in the first full house at Ewood Park since 2011.\n",
      "\n",
      "Reference Summary:\n",
      " Gary Bowyer hopes Jordan Rhodes can fire Blackburn into next round .\n",
      "Blackburn face Liverpool at home after drawing with the Reds at Anfield .\n",
      "The Championship outfit will have their first sell-out crowd since 2011 .\n"
     ]
    }
   ],
   "source": [
    "sample = test_tok[1532]\n",
    "\n",
    "generated, reference = generate_summary(sample, model, tokenizer)\n",
    "print(\"Generated Summary:\\n\", generated)\n",
    "print(\"\\nReference Summary:\\n\", reference)"
   ]
  },
  {
   "cell_type": "code",
   "execution_count": null,
   "metadata": {
    "colab": {
     "base_uri": "https://localhost:8080/"
    },
    "id": "HhrhNNNCfoEN",
    "outputId": "5acf4154-a724-4f38-b94e-0c2192ca3967"
   },
   "outputs": [
    {
     "name": "stdout",
     "output_type": "stream",
     "text": [
      "Summary 1:  Joe Biden said he was prepared to negotiate on the details of his $2 trillion infrastructure plan. Biden said he was open to compromise on how to pay for the package. He emphasized the importance of bold investment to ensure the U.S. remains competitive in the global economy.\n"
     ]
    }
   ],
   "source": [
    "sample1 = {\"article\": \"\"\"(Reuters) - U.S. President Joe Biden said on Monday that he was prepared to negotiate on the details of his $2 trillion\n",
    "            infrastructure plan, but would not be willing to “do nothing.” Biden said at a White House meeting with a bipartisan group of lawmakers that\n",
    "            he was open to compromise on how to pay for the package, which aims to fix roads and bridges, expand broadband access, and boost electric\n",
    "            vehicle use. However, he emphasized the importance of bold investment to ensure the U.S. remains competitive in the global economy.\"\"\"}\n",
    "\n",
    "summary1 = generate_summary(sample1, model, tokenizer)\n",
    "print(\"Summary 1: \", summary1)"
   ]
  },
  {
   "cell_type": "code",
   "execution_count": null,
   "metadata": {
    "colab": {
     "base_uri": "https://localhost:8080/"
    },
    "id": "3BFKdrpAY4FC",
    "outputId": "9868191f-65d6-4c32-9fee-cfeb9b97ab80"
   },
   "outputs": [
    {
     "name": "stdout",
     "output_type": "stream",
     "text": [
      "Summary 2:  Britain's economy grew by 0.4% in February 2021 as companies adapted to lockdown restrictions. Growth was driven by growth in manufacturing and trade, as well as the reopening of schools.\n"
     ]
    }
   ],
   "source": [
    "sample2 = {\"article\": \"\"\"LONDON (Reuters) - Britain’s economy grew by 0.4% in February 2021 as companies adapted to lockdown restrictions, official data\n",
    "           4showed on Tuesday, offering some hope that a recovery from the coronavirus crisis is underway. The increase was driven by growth in manufacturing\n",
    "           and trade, as well as the reopening of schools. However, the economy remained 7.8% smaller than in February 2020, before the pandemic hit.\n",
    "           Economists said the figures were encouraging but cautioned that the road to full recovery remained long.\"\"\"}\n",
    "\n",
    "summary2 = generate_summary(sample2, model, tokenizer)\n",
    "print(\"Summary 2: \", summary2)"
   ]
  },
  {
   "cell_type": "markdown",
   "metadata": {
    "id": "q-1Y9diDaCzc"
   },
   "source": [
    "### Prediction with Sample input"
   ]
  },
  {
   "cell_type": "code",
   "execution_count": null,
   "metadata": {
    "id": "aoUicsEfdmit"
   },
   "outputs": [],
   "source": [
    "def summarize_text(text, model, tokenizer, max_input_len=512, max_output_len=150, num_beams=4):\n",
    "\n",
    "    input_ids = tokenizer.encode(\n",
    "        \"summarize: \" + text,return_tensors=\"pt\",\n",
    "        max_length=max_input_len,truncation=True)\n",
    "\n",
    "    output_ids = model.generate(input_ids,max_length=max_output_len,num_beams=num_beams,early_stopping=True)\n",
    "\n",
    "    summary = tokenizer.decode(output_ids[0], skip_special_tokens=True)\n",
    "    return summary"
   ]
  },
  {
   "cell_type": "code",
   "execution_count": null,
   "metadata": {
    "colab": {
     "base_uri": "https://localhost:8080/"
    },
    "id": "jDFNdZ66aFhC",
    "outputId": "193b5cc4-f7ba-4de8-9df9-4a0128cb1e6d"
   },
   "outputs": [
    {
     "name": "stdout",
     "output_type": "stream",
     "text": [
      "Summary: The Chandrayaan-3 mission is expected to demonstrate the ability to perform a soft landing on the Moon. The mission is expected to demonstrate the ability to perform a soft landing on the Moon.\n"
     ]
    }
   ],
   "source": [
    "user_input = \"\"\"Indian Space Research Organisation (ISRO) successfully launched the Chandrayaan-3 mission to explore the lunar surface & conduct scientific\n",
    "experiments. This mission is expected to demonstrate the ability to perform a soft landing on the Moon and deploy a rover to study lunar soil and rocks.\"\"\"\n",
    "\n",
    "summary = summarize_text(user_input, model, tokenizer)\n",
    "print(\"Summary:\", summary)\n"
   ]
  },
  {
   "cell_type": "code",
   "execution_count": null,
   "metadata": {
    "colab": {
     "base_uri": "https://localhost:8080/"
    },
    "id": "BbO7BNBlaHB1",
    "outputId": "e6aeee26-9636-4be3-c0a5-114b6a3f13c2"
   },
   "outputs": [
    {
     "name": "stdout",
     "output_type": "stream",
     "text": [
      "Summary 2 :\n",
      " Britain's economy grew by 0.4% in February 2021 as companies adapt to lockdown restrictions. Growth was driven by growth in manufacturing and trade, as well as the reopening of schools.\n"
     ]
    }
   ],
   "source": [
    "sample2 = '''LONDON (Reuters) - Britain’s economy grew by 0.4% in February 2021 as companies adapted to lockdown restrictions, official data 4\n",
    "            showed on Tuesday, offering some hope that a recovery from the coronavirus crisis is underway. The increase was driven by growth in manufacturing\n",
    "           and trade, as well as the reopening of schools. However, the economy remained 7.8% smaller than in February 2020, before the pandemic hit.\n",
    "           Economists said the figures were encouraging but cautioned that the road to full recovery remained long.'''\n",
    "\n",
    "summary2 = summarize_text(sample2, model, tokenizer)\n",
    "print(\"Summary 2 :\\n\", summary2)"
   ]
  },
  {
   "cell_type": "markdown",
   "metadata": {
    "id": "zChzsLgLhF7v"
   },
   "source": [
    "### Building Extractive Summary (spaCy version)"
   ]
  },
  {
   "cell_type": "code",
   "execution_count": 1,
   "metadata": {
    "colab": {
     "base_uri": "https://localhost:8080/"
    },
    "id": "EAcZqDP2mMMo",
    "outputId": "3dcfcdca-589a-49dd-dbf9-67402a861830"
   },
   "outputs": [
    {
     "name": "stdout",
     "output_type": "stream",
     "text": [
      "Collecting en-core-web-sm==3.8.0\n",
      "  Downloading https://github.com/explosion/spacy-models/releases/download/en_core_web_sm-3.8.0/en_core_web_sm-3.8.0-py3-none-any.whl (12.8 MB)\n",
      "\u001b[2K     \u001b[90m━━━━━━━━━━━━━━━━━━━━━━━━━━━━━━━━━━━━━━━━\u001b[0m \u001b[32m12.8/12.8 MB\u001b[0m \u001b[31m44.9 MB/s\u001b[0m eta \u001b[36m0:00:00\u001b[0m\n",
      "\u001b[?25h\u001b[38;5;2m✔ Download and installation successful\u001b[0m\n",
      "You can now load the package via spacy.load('en_core_web_sm')\n",
      "\u001b[38;5;3m⚠ Restart to reload dependencies\u001b[0m\n",
      "If you are in a Jupyter or Colab notebook, you may need to restart Python in\n",
      "order to load all the package's dependencies. You can do this by selecting the\n",
      "'Restart kernel' or 'Restart runtime' option.\n"
     ]
    }
   ],
   "source": [
    "!python -m spacy download en_core_web_sm"
   ]
  },
  {
   "cell_type": "code",
   "execution_count": 1,
   "metadata": {
    "id": "ajl0SlH0lQpo"
   },
   "outputs": [],
   "source": [
    "import spacy\n",
    "nlp = spacy.load(\"en_core_web_sm\")"
   ]
  },
  {
   "cell_type": "code",
   "execution_count": 2,
   "metadata": {
    "id": "p6-YT8DZhLJZ"
   },
   "outputs": [],
   "source": [
    "def extractive_summary(text, top_n=2):\n",
    "    doc = nlp(text)\n",
    "    sentence_scores = []\n",
    "\n",
    "    for sent in doc.sents:\n",
    "        score = sum(1 for token in sent if token.ent_type_)\n",
    "        sentence_scores.append((score, sent.text))\n",
    "\n",
    "    top_sentences = sorted(sentence_scores, reverse=True)[:top_n]\n",
    "    summary = \" \".join([sent for _, sent in top_sentences])\n",
    "\n",
    "    return summary"
   ]
  },
  {
   "cell_type": "code",
   "execution_count": 4,
   "metadata": {
    "colab": {
     "base_uri": "https://localhost:8080/",
     "height": 53
    },
    "id": "l1VvtU-MhTr2",
    "outputId": "407176ae-69bb-44de-a63c-eb993adcf967"
   },
   "outputs": [
    {
     "data": {
      "application/vnd.google.colaboratory.intrinsic+json": {
       "type": "string"
      },
      "text/plain": [
       "'Indian Space Research Organisation (ISRO) successfully launched the Chandrayaan-3 mission to explore the lunar surface & conduct scientific\\nexperiments. This mission is expected to demonstrate the ability to perform a soft landing on the Moon and deploy a rover to study lunar soil and rocks.'"
      ]
     },
     "execution_count": 4,
     "metadata": {},
     "output_type": "execute_result"
    }
   ],
   "source": [
    "user_input = \"\"\"Indian Space Research Organisation (ISRO) successfully launched the Chandrayaan-3 mission to explore the lunar surface & conduct scientific\n",
    "experiments. This mission is expected to demonstrate the ability to perform a soft landing on the Moon and deploy a rover to study lunar soil and rocks.\"\"\"\n",
    "\n",
    "extractive_summary(user_input)"
   ]
  },
  {
   "cell_type": "code",
   "execution_count": 5,
   "metadata": {
    "colab": {
     "base_uri": "https://localhost:8080/",
     "height": 70
    },
    "id": "6BynCEZHhVnd",
    "outputId": "7516a117-83a7-4cda-8940-007b2feec0b9"
   },
   "outputs": [
    {
     "data": {
      "application/vnd.google.colaboratory.intrinsic+json": {
       "type": "string"
      },
      "text/plain": [
       "'LONDON (Reuters) - Britain’s economy grew by 0.4% in February 2021 as companies adapted to lockdown restrictions, official data 4\\n            showed on Tuesday, offering some hope that a recovery from the coronavirus crisis is underway. However, the economy remained 7.8% smaller than in February 2020, before the pandemic hit.\\n           '"
      ]
     },
     "execution_count": 5,
     "metadata": {},
     "output_type": "execute_result"
    }
   ],
   "source": [
    "sample2 = '''LONDON (Reuters) - Britain’s economy grew by 0.4% in February 2021 as companies adapted to lockdown restrictions, official data 4\n",
    "            showed on Tuesday, offering some hope that a recovery from the coronavirus crisis is underway. The increase was driven by growth in manufacturing\n",
    "           and trade, as well as the reopening of schools. However, the economy remained 7.8% smaller than in February 2020, before the pandemic hit.\n",
    "           Economists said the figures were encouraging but cautioned that the road to full recovery remained long.'''\n",
    "\n",
    "extractive_summary(sample2)"
   ]
  }
 ],
 "metadata": {
  "accelerator": "GPU",
  "colab": {
   "gpuType": "T4",
   "provenance": []
  },
  "kaggle": {
   "accelerator": "nvidiaTeslaT4",
   "dataSources": [],
   "dockerImageVersionId": 31041,
   "isGpuEnabled": true,
   "isInternetEnabled": true,
   "language": "python",
   "sourceType": "notebook"
  },
  "kernelspec": {
   "display_name": "Python 3",
   "name": "python3"
  },
  "language_info": {
   "codemirror_mode": {
    "name": "ipython",
    "version": 3
   },
   "file_extension": ".py",
   "mimetype": "text/x-python",
   "name": "python",
   "nbconvert_exporter": "python",
   "pygments_lexer": "ipython3",
   "version": "3.11.11"
  }
 },
 "nbformat": 4,
 "nbformat_minor": 0
}
